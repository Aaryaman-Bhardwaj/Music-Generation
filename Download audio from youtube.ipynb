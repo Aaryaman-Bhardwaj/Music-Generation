{
 "cells": [
  {
   "cell_type": "code",
   "execution_count": 3,
   "id": "f85a82ee-0e0d-428d-a745-75d615526a02",
   "metadata": {},
   "outputs": [],
   "source": [
    "import pafy"
   ]
  },
  {
   "cell_type": "code",
   "execution_count": 10,
   "id": "d99e9004-af3c-4a6c-80de-fd71517caa9a",
   "metadata": {},
   "outputs": [],
   "source": [
    "url = \"https://www.youtube.com/watch?v=qDgGdEwLxp8\"\n",
    "video = pafy.new(url)"
   ]
  },
  {
   "cell_type": "code",
   "execution_count": 11,
   "id": "53011e97-5f83-4553-9e57-9f308a028d80",
   "metadata": {},
   "outputs": [
    {
     "name": "stdout",
     "output_type": "stream",
     "text": [
      "61.083k webm 37784854\n",
      "80.287k webm 49664346\n",
      "129.472k m4a 80089243\n",
      "154.969k webm 95860867\n"
     ]
    }
   ],
   "source": [
    "audiostreams = video.audiostreams\n",
    "for i in audiostreams:\n",
    "    print(i.bitrate, i.extension, i.get_filesize())"
   ]
  },
  {
   "cell_type": "code",
   "execution_count": 12,
   "id": "2c875f75-e363-4abb-8564-9e5e68d4337f",
   "metadata": {},
   "outputs": [
    {
     "name": "stdout",
     "output_type": "stream",
     "text": [
      "154.969k webm 95860867\n"
     ]
    }
   ],
   "source": [
    "bestaudio = video.getbestaudio()\n",
    "print(bestaudio.bitrate, bestaudio.extension, bestaudio.get_filesize())\n"
   ]
  },
  {
   "cell_type": "code",
   "execution_count": 13,
   "id": "7a44f84e-f25a-45ca-ac2e-235da8d6640e",
   "metadata": {},
   "outputs": [
    {
     "name": "stdout",
     "output_type": "stream",
     "text": [
      "  95,860,867.0 Bytes [100.00%] received. Rate: [4088 KB/s].  ETA: [0 secs]      \n"
     ]
    }
   ],
   "source": [
    "bestaudio.download()"
   ]
  },
  {
   "cell_type": "code",
   "execution_count": 14,
   "id": "e7c33c23-4910-4885-86a7-9ebc78cf637e",
   "metadata": {},
   "outputs": [
    {
     "name": "stdout",
     "output_type": "stream",
     "text": [
      "  80,089,243.0 Bytes [100.00%] received. Rate: [3072 KB/s].  ETA: [0 secs]     \n"
     ]
    }
   ],
   "source": [
    "audiostreams[2].download()"
   ]
  },
  {
   "cell_type": "code",
   "execution_count": null,
   "id": "7d187ddd-f472-4c8a-9ed1-f80958b31c81",
   "metadata": {},
   "outputs": [],
   "source": []
  }
 ],
 "metadata": {
  "kernelspec": {
   "display_name": "Python 3",
   "language": "python",
   "name": "python3"
  },
  "language_info": {
   "codemirror_mode": {
    "name": "ipython",
    "version": 3
   },
   "file_extension": ".py",
   "mimetype": "text/x-python",
   "name": "python",
   "nbconvert_exporter": "python",
   "pygments_lexer": "ipython3",
   "version": "3.8.8"
  }
 },
 "nbformat": 4,
 "nbformat_minor": 5
}
